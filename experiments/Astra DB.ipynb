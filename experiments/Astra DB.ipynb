{
 "cells": [
  {
   "cell_type": "code",
   "execution_count": 24,
   "id": "ee1dbc46",
   "metadata": {
    "scrolled": false
   },
   "outputs": [],
   "source": [
    "# pip install cassandra-driver\n",
    "# pip install astrapy\n",
    "\n",
    "#To install \n",
    "\n",
    "#pip install tools\n",
    "\n",
    "from cassandra.cluster import Cluster\n",
    "from cassandra.auth import PlainTextAuthProvider\n",
    "#from tools import showDF,examineCassandraTable\n"
   ]
  },
  {
   "cell_type": "code",
   "execution_count": 25,
   "id": "129a5330",
   "metadata": {},
   "outputs": [],
   "source": [
    "import json\n",
    "astraKeyspace=\"killrvideo\""
   ]
  },
  {
   "cell_type": "code",
   "execution_count": 26,
   "id": "984fe318",
   "metadata": {},
   "outputs": [],
   "source": [
    "with open(\"killrvideocluster-token.json\") as f:\n",
    "    secrets = json.load(f)"
   ]
  },
  {
   "cell_type": "code",
   "execution_count": 27,
   "id": "c14499a7",
   "metadata": {},
   "outputs": [],
   "source": [
    "CLIENT_ID = secrets[\"clientId\"]\n",
    "CLIENT_SECRET = secrets[\"secret\"]"
   ]
  },
  {
   "cell_type": "code",
   "execution_count": 28,
   "id": "9df9a1cc",
   "metadata": {},
   "outputs": [],
   "source": [
    "cloud_config= {\n",
    "  'secure_connect_bundle': 'secure-connect-killrvideocluster.zip'\n",
    "}"
   ]
  },
  {
   "cell_type": "code",
   "execution_count": 47,
   "id": "97b66b01",
   "metadata": {},
   "outputs": [],
   "source": [
    "auth_provider = PlainTextAuthProvider(CLIENT_ID, CLIENT_SECRET)\n",
    "cluster = Cluster(cloud=cloud_config, auth_provider=auth_provider)\n",
    "session = cluster.connect()"
   ]
  },
  {
   "cell_type": "code",
   "execution_count": 32,
   "id": "cbbbb564",
   "metadata": {
    "scrolled": true
   },
   "outputs": [
    {
     "name": "stdout",
     "output_type": "stream",
     "text": [
      " ** connected to cluster \\ cndb\\ at data center 'us-east1' ** \n"
     ]
    }
   ],
   "source": [
    "rows=session.execute(\" SELECT key,cluster_name,data_center FROM system.local;\")\n",
    "local=rows.one()\n",
    "if local:\n",
    "    print(\" ** connected to cluster \\ %s\\ at data center \\'%s\\' ** \" % (\n",
    "    local.cluster_name,\n",
    "    local.data_center,\n",
    "    ))\n",
    "else:\n",
    "    print(\"Error could not read \\ 'system.local\\' table !\")"
   ]
  },
  {
   "cell_type": "code",
   "execution_count": 104,
   "id": "16ac05ce",
   "metadata": {},
   "outputs": [
    {
     "data": {
      "text/html": [
       "<div>\n",
       "<style scoped>\n",
       "    .dataframe tbody tr th:only-of-type {\n",
       "        vertical-align: middle;\n",
       "    }\n",
       "\n",
       "    .dataframe tbody tr th {\n",
       "        vertical-align: top;\n",
       "    }\n",
       "\n",
       "    .dataframe thead th {\n",
       "        text-align: right;\n",
       "    }\n",
       "</style>\n",
       "<table border=\"1\" class=\"dataframe\">\n",
       "  <thead>\n",
       "    <tr style=\"text-align: right;\">\n",
       "      <th></th>\n",
       "      <th>city</th>\n",
       "      <th>last_name</th>\n",
       "      <th>first_name</th>\n",
       "      <th>email</th>\n",
       "      <th>address</th>\n",
       "    </tr>\n",
       "  </thead>\n",
       "  <tbody>\n",
       "    <tr>\n",
       "      <th>0</th>\n",
       "      <td>Allapuzha</td>\n",
       "      <td>Chan</td>\n",
       "      <td>Jackie</td>\n",
       "      <td>jackiechan@kunfu.com</td>\n",
       "      <td>None</td>\n",
       "    </tr>\n",
       "    <tr>\n",
       "      <th>1</th>\n",
       "      <td>Allapuzha</td>\n",
       "      <td>Shon</td>\n",
       "      <td>Jackie</td>\n",
       "      <td>jackiechan@cobra.com</td>\n",
       "      <td>None</td>\n",
       "    </tr>\n",
       "    <tr>\n",
       "      <th>2</th>\n",
       "      <td>Allapuzha</td>\n",
       "      <td>Shon</td>\n",
       "      <td>Jackie</td>\n",
       "      <td>jackien@cobra.com</td>\n",
       "      <td>None</td>\n",
       "    </tr>\n",
       "    <tr>\n",
       "      <th>3</th>\n",
       "      <td>Kottayam</td>\n",
       "      <td>Doe</td>\n",
       "      <td>John</td>\n",
       "      <td>johndoe@gmail.com</td>\n",
       "      <td>Jinkx complex</td>\n",
       "    </tr>\n",
       "    <tr>\n",
       "      <th>4</th>\n",
       "      <td>Kolakata</td>\n",
       "      <td>john</td>\n",
       "      <td>Thomas</td>\n",
       "      <td>Joker</td>\n",
       "      <td>None</td>\n",
       "    </tr>\n",
       "  </tbody>\n",
       "</table>\n",
       "</div>"
      ],
      "text/plain": [
       "        city last_name first_name                 email        address\n",
       "0  Allapuzha      Chan     Jackie  jackiechan@kunfu.com           None\n",
       "1  Allapuzha      Shon     Jackie  jackiechan@cobra.com           None\n",
       "2  Allapuzha      Shon     Jackie     jackien@cobra.com           None\n",
       "3   Kottayam       Doe       John     johndoe@gmail.com  Jinkx complex\n",
       "4   Kolakata      john     Thomas                 Joker           None"
      ]
     },
     "execution_count": 104,
     "metadata": {},
     "output_type": "execute_result"
    }
   ],
   "source": [
    "import pandas as pd\n",
    "# Query Data\n",
    "query = f\"SELECT * FROM {astraKeyspace}.users_by_city;\"\n",
    "result = session.execute(query)\n",
    "\n",
    "# Convert result to DataFrame (optional)\n",
    "df = pd.DataFrame(result.all())\n",
    "df.head()\n"
   ]
  },
  {
   "cell_type": "code",
   "execution_count": 38,
   "id": "a38f6036",
   "metadata": {},
   "outputs": [
    {
     "data": {
      "text/plain": [
       "<cassandra.cluster.ResultSet at 0x1f4f2e7c1f0>"
      ]
     },
     "execution_count": 38,
     "metadata": {},
     "output_type": "execute_result"
    }
   ],
   "source": [
    "# Insert Data\n",
    "query = \"INSERT INTO killrvideo.users_by_city (city,last_name,first_name,email) VALUES ('Allapuzha', 'Shon','Jackie','jackien@cobra.com');\"\n",
    "prepared = session.prepare(query)\n",
    "\n",
    "session.execute(query)\n"
   ]
  },
  {
   "cell_type": "code",
   "execution_count": 105,
   "id": "65f4a6a9",
   "metadata": {},
   "outputs": [],
   "source": [
    "def insert_single(keyspace,table,data):\n",
    "    cql = f\"INSERT INTO {keyspace}.{table} ({','.join(data.keys())}) VALUES {tuple(i for i in data.values())};\"\n",
    "    try:\n",
    "        prepared = session.prepare(cql)\n",
    "        session.execute(prepared)\n",
    "    except Exception as e:\n",
    "        print(e)\n",
    "    return cql\n",
    "        \n"
   ]
  },
  {
   "cell_type": "code",
   "execution_count": 103,
   "id": "6593a244",
   "metadata": {
    "scrolled": true
   },
   "outputs": [
    {
     "data": {
      "text/plain": [
       "\"INSERT INTO killrvideo.users_by_city (last_name,email,city,first_name) VALUES ('john', 'Joker', 'Kolakata', 'Thomas');\""
      ]
     },
     "execution_count": 103,
     "metadata": {},
     "output_type": "execute_result"
    }
   ],
   "source": [
    "insert_single(\"killrvideo\",\"users_by_city\",{\"last_name\":'john',\"email\":\"Joker\",\"city\":\"Kolakata\",\"first_name\":\"Thomas\"})"
   ]
  },
  {
   "cell_type": "code",
   "execution_count": 118,
   "id": "ae237a1c",
   "metadata": {},
   "outputs": [],
   "source": [
    "#q=create table killrvideo.customers(id int primary key ,name text ,age int );\n",
    "def create(keyspace,table_name,columns,primary_key):\n",
    "    cql=f\"create table {keyspace}.{table_name}  ({\",\".join([f\"{col} {val}\"for col and val])})\"\n",
    "    return cql\n",
    "    "
   ]
  },
  {
   "cell_type": "code",
   "execution_count": 119,
   "id": "bd2b0a74",
   "metadata": {},
   "outputs": [
    {
     "ename": "TypeError",
     "evalue": "sequence item 0: expected str instance, tuple found",
     "output_type": "error",
     "traceback": [
      "\u001b[1;31m---------------------------------------------------------------------------\u001b[0m",
      "\u001b[1;31mTypeError\u001b[0m                                 Traceback (most recent call last)",
      "Cell \u001b[1;32mIn[119], line 1\u001b[0m\n\u001b[1;32m----> 1\u001b[0m \u001b[43mcreate\u001b[49m\u001b[43m(\u001b[49m\u001b[38;5;124;43m\"\u001b[39;49m\u001b[38;5;124;43mshakila\u001b[39;49m\u001b[38;5;124;43m\"\u001b[39;49m\u001b[43m,\u001b[49m\u001b[38;5;124;43m\"\u001b[39;49m\u001b[38;5;124;43mcall_list\u001b[39;49m\u001b[38;5;124;43m\"\u001b[39;49m\u001b[43m,\u001b[49m\u001b[43m{\u001b[49m\u001b[38;5;124;43m\"\u001b[39;49m\u001b[38;5;124;43mid\u001b[39;49m\u001b[38;5;124;43m\"\u001b[39;49m\u001b[43m:\u001b[49m\u001b[38;5;124;43m\"\u001b[39;49m\u001b[38;5;124;43mint\u001b[39;49m\u001b[38;5;124;43m\"\u001b[39;49m\u001b[43m,\u001b[49m\u001b[38;5;124;43m\"\u001b[39;49m\u001b[38;5;124;43mname\u001b[39;49m\u001b[38;5;124;43m\"\u001b[39;49m\u001b[43m:\u001b[49m\u001b[38;5;124;43m\"\u001b[39;49m\u001b[38;5;124;43mtext\u001b[39;49m\u001b[38;5;124;43m\"\u001b[39;49m\u001b[43m}\u001b[49m\u001b[43m,\u001b[49m\u001b[38;5;124;43m\"\u001b[39;49m\u001b[38;5;124;43mid\u001b[39;49m\u001b[38;5;124;43m\"\u001b[39;49m\u001b[43m)\u001b[49m\n",
      "Cell \u001b[1;32mIn[118], line 3\u001b[0m, in \u001b[0;36mcreate\u001b[1;34m(keyspace, table_name, columns, primary_key)\u001b[0m\n\u001b[0;32m      2\u001b[0m \u001b[38;5;28;01mdef\u001b[39;00m \u001b[38;5;21mcreate\u001b[39m(keyspace,table_name,columns,primary_key):\n\u001b[1;32m----> 3\u001b[0m     cql\u001b[38;5;241m=\u001b[39m\u001b[38;5;124mf\u001b[39m\u001b[38;5;124m\"\u001b[39m\u001b[38;5;124mcreate table \u001b[39m\u001b[38;5;132;01m{\u001b[39;00mkeyspace\u001b[38;5;132;01m}\u001b[39;00m\u001b[38;5;124m.\u001b[39m\u001b[38;5;132;01m{\u001b[39;00mtable_name\u001b[38;5;132;01m}\u001b[39;00m\u001b[38;5;124m  (\u001b[39m\u001b[38;5;132;01m{\u001b[39;00m\u001b[38;5;124m'\u001b[39m\u001b[38;5;124m,\u001b[39m\u001b[38;5;124m'\u001b[39m\u001b[38;5;241m.\u001b[39mjoin(\u001b[38;5;28mlist\u001b[39m(columns\u001b[38;5;241m.\u001b[39mitems()))\u001b[38;5;132;01m}\u001b[39;00m\u001b[38;5;124m)   \u001b[39m\u001b[38;5;124m\"\u001b[39m\n\u001b[0;32m      4\u001b[0m     \u001b[38;5;28;01mreturn\u001b[39;00m cql\n",
      "\u001b[1;31mTypeError\u001b[0m: sequence item 0: expected str instance, tuple found"
     ]
    }
   ],
   "source": [
    "create(\"shakila\",\"call_list\",{\"id\":\"int\",\"name\":\"text\"},\"id\")"
   ]
  },
  {
   "cell_type": "code",
   "execution_count": 107,
   "id": "d39a2ec4",
   "metadata": {},
   "outputs": [],
   "source": [
    "class CassandraDB():\n",
    "    def __init__(self,json_file_location,cloud_config):\n",
    "        with open(json_file_location) as f:\n",
    "            secrets = json.load(f)\n",
    "        self.CLIENT_ID = secrets[\"clientId\"]\n",
    "        self.CLIENT_SECRET = secrets[\"secret\"]\n",
    "        auth_provider = PlainTextAuthProvider(CLIENT_ID, CLIENT_SECRET)\n",
    "        cluster = Cluster(cloud=cloud_config, auth_provider=auth_provider)\n",
    "    def connect(self):\n",
    "        session = cluster.connect()\n",
    "        rows=session.execute(\" SELECT key,cluster_name,data_center FROM system.local;\")\n",
    "        local=rows.one()\n",
    "        if local:\n",
    "            print(\" ** connected to cluster \\ %s\\ at data center \\'%s\\' ** \" % (\n",
    "            local.cluster_name,\n",
    "            local.data_center,\n",
    "            ))\n",
    "        else:\n",
    "            print(\"Error could not read \\ 'system.local\\' table !\")\n",
    "    def insert_single(self,keyspace,table,data):\n",
    "        session = cluster.connect()\n",
    "        cql = f\"INSERT INTO {keyspace}.{table} ({','.join(data.keys())}) VALUES {tuple(i for i in data.values())};\"\n",
    "        try:\n",
    "            prepared = session.prepare(cql)\n",
    "            session.execute(prepared)\n",
    "        except Exception as e:\n",
    "            print(e)\n",
    "        finally:\n",
    "            return cql\n",
    "    def create_table()\n",
    "        \n",
    "\n",
    "\n"
   ]
  },
  {
   "cell_type": "code",
   "execution_count": null,
   "id": "478d4df6",
   "metadata": {},
   "outputs": [],
   "source": [
    "def insert_single(keyspace,column_name,values:list):\n",
    "    cols=[]\n",
    "    query = f\"INSERT INTO {keyspace}.users_by_city {(city,last_name,first_name,email)} VALUES ('Allapuzha', 'Chan','Jackie','jackiechan@kunfu.com');\"\n",
    "    prepared = session.prepare(query)\n",
    "    session.execute(prepared)"
   ]
  },
  {
   "cell_type": "code",
   "execution_count": 59,
   "id": "4a0da300",
   "metadata": {},
   "outputs": [],
   "source": [
    "\n",
    "def create_record(driver, keyspace, table, data):\n",
    "    \"\"\"\n",
    "  This function creates a new record in a Cassandra table.\n",
    "\n",
    "  Args:\n",
    "      driver: Cassandra driver object.\n",
    "      keyspace: The keyspace where the table resides.\n",
    "      table: The name of the Cassandra table.\n",
    "      data: A dictionary containing the column names and their values for the new record.\n",
    "    \"\"\"\n",
    "    session = driver.connect()\n",
    "    try:\n",
    "    # Build the CQL statement\n",
    "        cql = f\"INSERT INTO {keyspace}.{table} ({','.join(data.keys())}) VALUES ({','.join(data.keys())})\"\n",
    "        session.execute(cql)\n",
    "        print(f\"Record inserted successfully into {table} table.\")\n",
    "    except Exception as e:\n",
    "        print(f\"Error creating record: {e}\")\n",
    "    finally:\n",
    "        session.shutdown()\n"
   ]
  },
  {
   "cell_type": "code",
   "execution_count": 60,
   "id": "4d3cf0a9",
   "metadata": {},
   "outputs": [
    {
     "name": "stdout",
     "output_type": "stream",
     "text": [
      "Error creating record: <Error from server: code=2000 [Syntax error in CQL query] message=\"line 1:62 no viable alternative at input ',' (... (city,email) VALUES ([city],...)\">\n"
     ]
    }
   ],
   "source": [
    "create_record(cluster,'killrvideo','users_by_city',{\"city\":\"Palakkad\",\"email\":\"palakkadan@gmail.com\"})"
   ]
  },
  {
   "cell_type": "code",
   "execution_count": null,
   "id": "0c72564a",
   "metadata": {},
   "outputs": [],
   "source": []
  }
 ],
 "metadata": {
  "kernelspec": {
   "display_name": "llm",
   "language": "python",
   "name": "llm"
  },
  "language_info": {
   "codemirror_mode": {
    "name": "ipython",
    "version": 3
   },
   "file_extension": ".py",
   "mimetype": "text/x-python",
   "name": "python",
   "nbconvert_exporter": "python",
   "pygments_lexer": "ipython3",
   "version": "3.10.9"
  }
 },
 "nbformat": 4,
 "nbformat_minor": 5
}
